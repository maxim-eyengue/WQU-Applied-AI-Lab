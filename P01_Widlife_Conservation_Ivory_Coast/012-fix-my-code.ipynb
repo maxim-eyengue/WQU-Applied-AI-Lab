{
 "cells": [
  {
   "cell_type": "markdown",
   "metadata": {
    "deletable": false,
    "editable": false
   },
   "source": [
    "<p>\n",
    "  <b>AI Lab: Deep Learning for Computer Vision</b><br>\n",
    "  <b><a href=\"https://www.wqu.edu/\">WorldQuant University</a></b>\n",
    "</p>"
   ]
  },
  {
   "cell_type": "markdown",
   "metadata": {
    "deletable": false,
    "editable": false
   },
   "source": [
    "<div class=\"alert alert-success\" role=\"alert\">\n",
    "  <p>\n",
    "    <center><b>Usage Guidelines</b></center>\n",
    "  </p>\n",
    "  <p>\n",
    "    This file is licensed under <a href=\"https://creativecommons.org/licenses/by-nc-nd/4.0/\">Creative Commons Attribution-NonCommercial-NoDerivatives 4.0 International</a>.\n",
    "  </p>\n",
    "  <p>\n",
    "    You <b>can</b>:\n",
    "    <ul>\n",
    "      <li><span style=\"color: green\">✓</span> Download this file</li>\n",
    "      <li><span style=\"color: green\">✓</span> Post this file in public repositories</li>\n",
    "    </ul>\n",
    "    You <b>must always</b>:\n",
    "    <ul>\n",
    "      <li><span style=\"color: green\">✓</span> Give credit to <a href=\"https://www.wqu.edu/\">WorldQuant University</a> for the creation of this file</li>\n",
    "      <li><span style=\"color: green\">✓</span> Provide a <a href=\"https://creativecommons.org/licenses/by-nc-nd/4.0/\">link to the license</a></li>\n",
    "    </ul>\n",
    "    You <b>cannot</b>:\n",
    "    <ul>\n",
    "      <li><span style=\"color: red\">✗</span> Create derivatives or adaptations of this file</li>\n",
    "      <li><span style=\"color: red\">✗</span> Use this file for commercial purposes</li>\n",
    "    </ul>\n",
    "  </p>\n",
    "  <p>\n",
    "    Failure to follow these guidelines is a violation of your terms of service and could lead to your expulsion from WorldQuant University and the revocation your certificate.\n",
    "  </p>\n",
    "</div>"
   ]
  },
  {
   "cell_type": "markdown",
   "metadata": {},
   "source": [
    "## 🔍 What Are Python Tracebacks?\n",
    "\n",
    "In Python, a **traceback** is a detailed report generated when an error occurs in your code. A traceback, also called a **stack trace**, offers valuable information about **what** and **where** went wrong by providing a step-by-step account of what led up to Python raising an exception. \n",
    "\n",
    "While tracebacks may appear daunting at first glance, they contain crucial details that can significantly aid in debugging your code. 🛠️\n",
    "\n",
    "### 🔑 Why Are Tracebacks Important?\n",
    "\n",
    "By carefully examining a traceback, you can:\n",
    "\n",
    "- ✅ **Understand the nature of the exception**\n",
    "- 🔄 **See the sequence of code that led to the error**\n",
    "- 📍 **Identify the exact line where the error occurred**, sometimes even where in the line the error occurred\n",
    "\n",
    "Learning to read and understand tracebacks is an **essential skill** for Python developers because it's one of the primary ways to debug errors in Python code. 🐍💡\n"
   ]
  },
  {
   "cell_type": "markdown",
   "metadata": {},
   "source": [
    "Below is an example of code that has a bug in it. When the cell is executed, the code does not run because it raises an exception and generates a traceback."
   ]
  },
  {
   "cell_type": "code",
   "execution_count": 1,
   "metadata": {
    "tags": [
     "raises-exception"
    ]
   },
   "outputs": [
    {
     "ename": "NameError",
     "evalue": "name 'user_name' is not defined",
     "output_type": "error",
     "traceback": [
      "\u001b[0;31m---------------------------------------------------------------------------\u001b[0m",
      "\u001b[0;31mNameError\u001b[0m                                 Traceback (most recent call last)",
      "Cell \u001b[0;32mIn[1], line 6\u001b[0m\n\u001b[1;32m      3\u001b[0m     \u001b[38;5;28mprint\u001b[39m(\u001b[38;5;124m\"\u001b[39m\u001b[38;5;124mHello,\u001b[39m\u001b[38;5;124m\"\u001b[39m, name)\n\u001b[1;32m      5\u001b[0m \u001b[38;5;66;03m# Call of the function `greet()`\u001b[39;00m\n\u001b[0;32m----> 6\u001b[0m greet(\u001b[43muser_name\u001b[49m)\n",
      "\u001b[0;31mNameError\u001b[0m: name 'user_name' is not defined"
     ]
    }
   ],
   "source": [
    "# Function for greeting\n",
    "def greet(name):\n",
    "    print(\"Hello,\", name)\n",
    "\n",
    "# Call of the function `greet()`\n",
    "greet(user_name)"
   ]
  },
  {
   "cell_type": "markdown",
   "metadata": {},
   "source": [
    "In the code above, we did not define the variable `user_name` before it was used. It's a common mistake to use a variable without defining it first.\n",
    "\n",
    "Let's walk through the traceback. We read a traceback by **starting with the last line**. The first element is `NameError`, which is the type of exception that was raised. After the colon (`:`), there's a more detailed explanation: `name 'user_name' is not defined`. Looking at the next line up, we see an arrow (`---->`), which points to the line causing the error. Above that, there's also a brief snippet of code for context. The top line repeats some of the information: `NameError Traceback (most recent call last)`.\n",
    "\n",
    "Let's fix the code so it runs."
   ]
  },
  {
   "cell_type": "code",
   "execution_count": 4,
   "metadata": {},
   "outputs": [
    {
     "name": "stdout",
     "output_type": "stream",
     "text": [
      "Hello, Zarah\n"
     ]
    }
   ],
   "source": [
    "# Function for greeting\n",
    "def greet(name):\n",
    "    print(\"Hello,\", name)\n",
    "\n",
    "# Define user name\n",
    "user_name = \"Zarah\"\n",
    "# Greet our user\n",
    "greet(user_name)"
   ]
  },
  {
   "cell_type": "markdown",
   "metadata": {},
   "source": [
    "The code now runs because the variable `user_name` is defined before it's called."
   ]
  },
  {
   "cell_type": "markdown",
   "metadata": {},
   "source": [
    "Now it's your turn. The code below is broken. Run the cell and use the traceback to locate the error."
   ]
  },
  {
   "cell_type": "markdown",
   "metadata": {},
   "source": [
    "**Task 1.2.1:** Fix a `NameError` using a traceback."
   ]
  },
  {
   "cell_type": "code",
   "execution_count": 5,
   "metadata": {},
   "outputs": [
    {
     "ename": "NameError",
     "evalue": "name 'say_hello' is not defined",
     "output_type": "error",
     "traceback": [
      "\u001b[0;31m---------------------------------------------------------------------------\u001b[0m",
      "\u001b[0;31mNameError\u001b[0m                                 Traceback (most recent call last)",
      "Cell \u001b[0;32mIn[5], line 2\u001b[0m\n\u001b[1;32m      1\u001b[0m \u001b[38;5;66;03m# Call of a function not defined\u001b[39;00m\n\u001b[0;32m----> 2\u001b[0m \u001b[43msay_hello\u001b[49m()\n\u001b[1;32m      4\u001b[0m \u001b[38;5;66;03m# Define the function\u001b[39;00m\n\u001b[1;32m      5\u001b[0m \u001b[38;5;28;01mdef\u001b[39;00m \u001b[38;5;21msay_hello\u001b[39m():\n",
      "\u001b[0;31mNameError\u001b[0m: name 'say_hello' is not defined"
     ]
    }
   ],
   "source": [
    "# Call of a function not defined\n",
    "say_hello()\n",
    "\n",
    "# Define the function\n",
    "def say_hello():\n",
    "    print(\"Hello!\")"
   ]
  },
  {
   "cell_type": "markdown",
   "metadata": {},
   "source": [
    "A function needs to be defined before it's called. Thus, the order of the elements needed to be swapped."
   ]
  },
  {
   "cell_type": "code",
   "execution_count": 6,
   "metadata": {},
   "outputs": [
    {
     "name": "stdout",
     "output_type": "stream",
     "text": [
      "Hello!\n"
     ]
    }
   ],
   "source": [
    "# Define the function\n",
    "def say_hello():\n",
    "    print(\"Hello!\")\n",
    "\n",
    "# Call of the defined function\n",
    "say_hello()"
   ]
  },
  {
   "cell_type": "markdown",
   "metadata": {},
   "source": [
    "Let's look at another example of broken code that generates a traceback."
   ]
  },
  {
   "cell_type": "code",
   "execution_count": 7,
   "metadata": {},
   "outputs": [],
   "source": [
    "# Function to calculate average of a list of numbers\n",
    "def calculate_average(numbers):\n",
    "    return sum(numbers) / len(numbers)"
   ]
  },
  {
   "cell_type": "code",
   "execution_count": 8,
   "metadata": {
    "tags": [
     "raises-exception"
    ]
   },
   "outputs": [
    {
     "ename": "TypeError",
     "evalue": "unsupported operand type(s) for +: 'int' and 'str'",
     "output_type": "error",
     "traceback": [
      "\u001b[0;31m---------------------------------------------------------------------------\u001b[0m",
      "\u001b[0;31mTypeError\u001b[0m                                 Traceback (most recent call last)",
      "Cell \u001b[0;32mIn[8], line 2\u001b[0m\n\u001b[1;32m      1\u001b[0m \u001b[38;5;66;03m# Compute average of a list of some numbers and a string\u001b[39;00m\n\u001b[0;32m----> 2\u001b[0m result \u001b[38;5;241m=\u001b[39m \u001b[43mcalculate_average\u001b[49m\u001b[43m(\u001b[49m\u001b[43m[\u001b[49m\u001b[38;5;241;43m1\u001b[39;49m\u001b[43m,\u001b[49m\u001b[43m \u001b[49m\u001b[38;5;241;43m2\u001b[39;49m\u001b[43m,\u001b[49m\u001b[43m \u001b[49m\u001b[38;5;241;43m3\u001b[39;49m\u001b[43m,\u001b[49m\u001b[43m \u001b[49m\u001b[38;5;124;43m\"\u001b[39;49m\u001b[38;5;124;43m4\u001b[39;49m\u001b[38;5;124;43m\"\u001b[39;49m\u001b[43m,\u001b[49m\u001b[43m \u001b[49m\u001b[38;5;241;43m5\u001b[39;49m\u001b[43m]\u001b[49m\u001b[43m)\u001b[49m\n",
      "Cell \u001b[0;32mIn[7], line 3\u001b[0m, in \u001b[0;36mcalculate_average\u001b[0;34m(numbers)\u001b[0m\n\u001b[1;32m      2\u001b[0m \u001b[38;5;28;01mdef\u001b[39;00m \u001b[38;5;21mcalculate_average\u001b[39m(numbers):\n\u001b[0;32m----> 3\u001b[0m     \u001b[38;5;28;01mreturn\u001b[39;00m \u001b[38;5;28;43msum\u001b[39;49m\u001b[43m(\u001b[49m\u001b[43mnumbers\u001b[49m\u001b[43m)\u001b[49m \u001b[38;5;241m/\u001b[39m \u001b[38;5;28mlen\u001b[39m(numbers)\n",
      "\u001b[0;31mTypeError\u001b[0m: unsupported operand type(s) for +: 'int' and 'str'"
     ]
    }
   ],
   "source": [
    "# Compute average of a list of some numbers and a string\n",
    "result = calculate_average([1, 2, 3, \"4\", 5])"
   ]
  },
  {
   "cell_type": "markdown",
   "metadata": {
    "tags": [
     "raises-exception"
    ]
   },
   "source": [
    "Let's walk through this traceback **starting with the last line**. The exception type is `TypeError`. There is an `unsupported operand type(s) for +`. An *operand* is the data on which an operation is performed. In this case, the function is attempting to add (`+`) an integer (`int`) and a string (`str`). The next line (`----> 3     return sum(numbers) / len(numbers)`) points to the line raising the exception in the function. The Python kernel also displays the cell in which this function is called. Above that, there is `----> 2 result = calculate_average([1, 2, 3, \"4\", 5])`, which points to the line that called the function. These two code snippets provide the extended context which raises the exception. \n",
    "\n",
    "Let's change the code to use a consistent datatype, integer makes the most sense in this example."
   ]
  },
  {
   "cell_type": "code",
   "execution_count": 9,
   "metadata": {},
   "outputs": [],
   "source": [
    "# Compute average of a list of some numbers\n",
    "result = calculate_average([1, 2, 3, 4, 5])"
   ]
  },
  {
   "cell_type": "markdown",
   "metadata": {},
   "source": [
    "Now, the code runs without errors."
   ]
  },
  {
   "cell_type": "markdown",
   "metadata": {},
   "source": [
    "The following code is broken. Run the cell, read the traceback, understand the error, and then correct the code. Change only the code, do **not** modify the data."
   ]
  },
  {
   "cell_type": "markdown",
   "metadata": {},
   "source": [
    "**Task 1.2.2:** Fix the function `lower_case_dictionary_values` using traceback information."
   ]
  },
  {
   "cell_type": "code",
   "execution_count": 10,
   "metadata": {},
   "outputs": [
    {
     "ename": "AttributeError",
     "evalue": "'int' object has no attribute 'lower'",
     "output_type": "error",
     "traceback": [
      "\u001b[0;31m---------------------------------------------------------------------------\u001b[0m",
      "\u001b[0;31mAttributeError\u001b[0m                            Traceback (most recent call last)",
      "Cell \u001b[0;32mIn[10], line 20\u001b[0m\n\u001b[1;32m     13\u001b[0m user_data \u001b[38;5;241m=\u001b[39m {\n\u001b[1;32m     14\u001b[0m     \u001b[38;5;124m\"\u001b[39m\u001b[38;5;124musername\u001b[39m\u001b[38;5;124m\"\u001b[39m: \u001b[38;5;124m\"\u001b[39m\u001b[38;5;124mMaria Clara Santos\u001b[39m\u001b[38;5;124m\"\u001b[39m,\n\u001b[1;32m     15\u001b[0m     \u001b[38;5;124m\"\u001b[39m\u001b[38;5;124memail\u001b[39m\u001b[38;5;124m\"\u001b[39m: \u001b[38;5;124m\"\u001b[39m\u001b[38;5;124mMaria.Clara.Aantos@example.com\u001b[39m\u001b[38;5;124m\"\u001b[39m,\n\u001b[1;32m     16\u001b[0m     \u001b[38;5;124m\"\u001b[39m\u001b[38;5;124mage\u001b[39m\u001b[38;5;124m\"\u001b[39m: \u001b[38;5;241m30\u001b[39m,\n\u001b[1;32m     17\u001b[0m }\n\u001b[1;32m     19\u001b[0m \u001b[38;5;66;03m# Call of our function\u001b[39;00m\n\u001b[0;32m---> 20\u001b[0m \u001b[43mlower_case_dictionary_values\u001b[49m\u001b[43m(\u001b[49m\u001b[43muser_data\u001b[49m\u001b[43m)\u001b[49m\n",
      "Cell \u001b[0;32mIn[10], line 8\u001b[0m, in \u001b[0;36mlower_case_dictionary_values\u001b[0;34m(dictionary)\u001b[0m\n\u001b[1;32m      5\u001b[0m \u001b[38;5;66;03m# for each dictionary key, value pair\u001b[39;00m\n\u001b[1;32m      6\u001b[0m \u001b[38;5;28;01mfor\u001b[39;00m key, value \u001b[38;5;129;01min\u001b[39;00m dictionary\u001b[38;5;241m.\u001b[39mitems():\n\u001b[1;32m      7\u001b[0m     \u001b[38;5;66;03m# Add the lower_case value to the new dictionary with the corresponding key\u001b[39;00m\n\u001b[0;32m----> 8\u001b[0m     new_dict[key] \u001b[38;5;241m=\u001b[39m \u001b[43mvalue\u001b[49m\u001b[38;5;241;43m.\u001b[39;49m\u001b[43mlower\u001b[49m()\n\u001b[1;32m      9\u001b[0m \u001b[38;5;66;03m# return resulting dictionary\u001b[39;00m\n\u001b[1;32m     10\u001b[0m \u001b[38;5;28;01mreturn\u001b[39;00m new_dict\n",
      "\u001b[0;31mAttributeError\u001b[0m: 'int' object has no attribute 'lower'"
     ]
    }
   ],
   "source": [
    "# Define the function to lower case dictionary values\n",
    "def lower_case_dictionary_values(dictionary):\n",
    "    # Initialize a dictionary\n",
    "    new_dict = {}\n",
    "    # for each dictionary key, value pair\n",
    "    for key, value in dictionary.items():\n",
    "        # Add the lower_case value to the new dictionary with the corresponding key\n",
    "        new_dict[key] = value.lower()\n",
    "    # return resulting dictionary\n",
    "    return new_dict\n",
    "\n",
    "# Create input data as dictionary\n",
    "user_data = {\n",
    "    \"username\": \"Maria Clara Santos\",\n",
    "    \"email\": \"Maria.Clara.Aantos@example.com\",\n",
    "    \"age\": 30,\n",
    "}\n",
    "\n",
    "# Call of our function\n",
    "lower_case_dictionary_values(user_data)"
   ]
  },
  {
   "cell_type": "markdown",
   "metadata": {},
   "source": [
    "The issue is that an `int` type can not be lowercased. One solution is to add a conditional that only lowercases `str` types."
   ]
  },
  {
   "cell_type": "code",
   "execution_count": 11,
   "metadata": {},
   "outputs": [
    {
     "data": {
      "text/plain": [
       "{'username': 'maria clara santos',\n",
       " 'email': 'maria.clara.aantos@example.com',\n",
       " 'age': 30}"
      ]
     },
     "execution_count": 11,
     "metadata": {},
     "output_type": "execute_result"
    }
   ],
   "source": [
    "# Define the function to lower case dictionary values\n",
    "def lower_case_dictionary_values(dictionary):\n",
    "    # Initialize a dictionary\n",
    "    new_dict = {}\n",
    "    # for each dictionary key, value pair\n",
    "    for key, value in dictionary.items():\n",
    "        # Check the type of that value\n",
    "        if isinstance(value, str):\n",
    "            # Add Lower case value\n",
    "            new_dict[key] = value.lower()\n",
    "        else:\n",
    "            # Add normal value\n",
    "            new_dict[key] = value\n",
    "        \n",
    "    # return resulting dictionary\n",
    "    return new_dict\n",
    "\n",
    "# Create input data as dictionary\n",
    "user_data = {\n",
    "    \"username\": \"Maria Clara Santos\",\n",
    "    \"email\": \"Maria.Clara.Aantos@example.com\",\n",
    "    \"age\": 30,\n",
    "}\n",
    "\n",
    "# Call of our function\n",
    "lower_case_dictionary_values(user_data)"
   ]
  },
  {
   "cell_type": "markdown",
   "metadata": {},
   "source": [
    "Let's examine an example of a traceback coming from a common PyTorch error."
   ]
  },
  {
   "cell_type": "code",
   "execution_count": 12,
   "metadata": {},
   "outputs": [],
   "source": [
    "# Import for tensors\n",
    "import torch"
   ]
  },
  {
   "cell_type": "code",
   "execution_count": 13,
   "metadata": {
    "tags": [
     "raises-exception"
    ]
   },
   "outputs": [
    {
     "ename": "RuntimeError",
     "evalue": "Expected all tensors to be on the same device, but found at least two devices, cuda:0 and cpu!",
     "output_type": "error",
     "traceback": [
      "\u001b[0;31m---------------------------------------------------------------------------\u001b[0m",
      "\u001b[0;31mRuntimeError\u001b[0m                              Traceback (most recent call last)",
      "Cell \u001b[0;32mIn[13], line 6\u001b[0m\n\u001b[1;32m      4\u001b[0m tensor_on_gpu \u001b[38;5;241m=\u001b[39m torch\u001b[38;5;241m.\u001b[39mtensor([\u001b[38;5;241m4\u001b[39m, \u001b[38;5;241m5\u001b[39m, \u001b[38;5;241m6\u001b[39m])\u001b[38;5;241m.\u001b[39mcuda()\n\u001b[1;32m      5\u001b[0m \u001b[38;5;66;03m# Add tensors\u001b[39;00m\n\u001b[0;32m----> 6\u001b[0m result \u001b[38;5;241m=\u001b[39m \u001b[43mtensor_on_cpu\u001b[49m\u001b[43m \u001b[49m\u001b[38;5;241;43m+\u001b[39;49m\u001b[43m \u001b[49m\u001b[43mtensor_on_gpu\u001b[49m\n",
      "\u001b[0;31mRuntimeError\u001b[0m: Expected all tensors to be on the same device, but found at least two devices, cuda:0 and cpu!"
     ]
    }
   ],
   "source": [
    "# Create tensor on CPU\n",
    "tensor_on_cpu = torch.tensor([1, 2, 3])\n",
    "# Create tensor on GPU\n",
    "tensor_on_gpu = torch.tensor([4, 5, 6]).cuda()\n",
    "# Add tensors\n",
    "result = tensor_on_cpu + tensor_on_gpu"
   ]
  },
  {
   "cell_type": "markdown",
   "metadata": {},
   "source": [
    "This `RuntimeError` is a result of trying to combine a CPU-based tensor with a GPU-based tensor. To fix this error, you need to ensure all tensors are on the same device before performing operations. One way to do that is to move the CPU-based tensor to the GPU, then the operation will be valid."
   ]
  },
  {
   "cell_type": "code",
   "execution_count": 14,
   "metadata": {
    "tags": [
     "skip-flake8"
    ]
   },
   "outputs": [],
   "source": [
    "# Move tensor to GPU\n",
    "tensor_moved_to_gpu = tensor_on_cpu.cuda()\n",
    "# Add tensors\n",
    "result = tensor_moved_to_gpu + tensor_on_gpu"
   ]
  },
  {
   "cell_type": "markdown",
   "metadata": {},
   "source": [
    "**Task 1.2.3:** Fix PyTorch `RuntimeError` using traceback information."
   ]
  },
  {
   "cell_type": "code",
   "execution_count": 15,
   "metadata": {},
   "outputs": [
    {
     "ename": "RuntimeError",
     "evalue": "Expected all tensors to be on the same device, but found at least two devices, cuda:0 and cpu! (when checking argument for argument mat2 in method wrapper_CUDA_mm)",
     "output_type": "error",
     "traceback": [
      "\u001b[0;31m---------------------------------------------------------------------------\u001b[0m",
      "\u001b[0;31mRuntimeError\u001b[0m                              Traceback (most recent call last)",
      "Cell \u001b[0;32mIn[15], line 13\u001b[0m\n\u001b[1;32m      9\u001b[0m matrix_2 \u001b[38;5;241m=\u001b[39m torch\u001b[38;5;241m.\u001b[39mrandn(\u001b[38;5;241m4\u001b[39m, \u001b[38;5;241m2\u001b[39m)\n\u001b[1;32m     10\u001b[0m \u001b[38;5;66;03m# your code goes here...\u001b[39;00m\n\u001b[1;32m     11\u001b[0m \n\u001b[1;32m     12\u001b[0m \u001b[38;5;66;03m# Multiply tensors\u001b[39;00m\n\u001b[0;32m---> 13\u001b[0m result \u001b[38;5;241m=\u001b[39m \u001b[43mtorch\u001b[49m\u001b[38;5;241;43m.\u001b[39;49m\u001b[43mmm\u001b[49m\u001b[43m(\u001b[49m\u001b[43mmatrix_1\u001b[49m\u001b[43m,\u001b[49m\u001b[43m \u001b[49m\u001b[43mmatrix_2\u001b[49m\u001b[43m)\u001b[49m\n",
      "\u001b[0;31mRuntimeError\u001b[0m: Expected all tensors to be on the same device, but found at least two devices, cuda:0 and cpu! (when checking argument for argument mat2 in method wrapper_CUDA_mm)"
     ]
    }
   ],
   "source": [
    "# Important! Don't change this! It's the seed for reproducibility\n",
    "torch.manual_seed(42)\n",
    "torch.cuda.manual_seed(42)\n",
    "\n",
    "# Multidimensional tensor\n",
    "matrix_1 = torch.randn(3, 4).cuda()\n",
    "\n",
    "# Multidimensonal Tensor\n",
    "matrix_2 = torch.randn(4, 2)\n",
    "# your code goes here...\n",
    "\n",
    "# Multiply tensors\n",
    "result = torch.mm(matrix_1, matrix_2)"
   ]
  },
  {
   "cell_type": "markdown",
   "metadata": {},
   "source": [
    "In PyTorch, all tensors involved in a computation must be on the same device. One solution is to move tensors from the CPU to the GPU using the `.cuda()` method."
   ]
  },
  {
   "cell_type": "code",
   "execution_count": 16,
   "metadata": {},
   "outputs": [],
   "source": [
    "# Important! Don't change this! It's the seed for reproducibility\n",
    "torch.manual_seed(42)\n",
    "torch.cuda.manual_seed(42)\n",
    "\n",
    "# Multidimensional tensor\n",
    "matrix_1 = torch.randn(3, 4).cuda()\n",
    "\n",
    "# Multidimensonal Tensor\n",
    "matrix_2 = torch.randn(4, 2).cuda()\n",
    "\n",
    "# Multiply tensors\n",
    "result = torch.mm(matrix_1, matrix_2)"
   ]
  },
  {
   "cell_type": "markdown",
   "metadata": {},
   "source": [
    "In closing, errors are a natural part of programming. When encountering an error, pause, read the traceback message slowly (always starting at the end), and think about what the traceback message is telling you about the cause of the error. Use that information to make a plan on how to fix the code."
   ]
  },
  {
   "cell_type": "markdown",
   "metadata": {
    "deletable": false,
    "editable": false
   },
   "source": [
    "---\n",
    "This file &#169; 2024 by [WorldQuant University](https://www.wqu.edu/) is licensed under [CC BY-NC-ND 4.0](https://creativecommons.org/licenses/by-nc-nd/4.0/)."
   ]
  }
 ],
 "metadata": {
  "kernelspec": {
   "display_name": "Python 3 (ipykernel)",
   "language": "python",
   "name": "python3"
  },
  "language_info": {
   "codemirror_mode": {
    "name": "ipython",
    "version": 3
   },
   "file_extension": ".py",
   "mimetype": "text/x-python",
   "name": "python",
   "nbconvert_exporter": "python",
   "pygments_lexer": "ipython3",
   "version": "3.11.0"
  },
  "widgets": {
   "application/vnd.jupyter.widget-state+json": {
    "state": {},
    "version_major": 2,
    "version_minor": 0
   }
  }
 },
 "nbformat": 4,
 "nbformat_minor": 4
}
